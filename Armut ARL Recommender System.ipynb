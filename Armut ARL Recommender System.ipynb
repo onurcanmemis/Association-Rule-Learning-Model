{
 "cells": [
  {
   "cell_type": "markdown",
   "metadata": {},
   "source": [
    "# ARMUT Association Rule Learning Recommendation System"
   ]
  },
  {
   "cell_type": "markdown",
   "metadata": {},
   "source": [
    "***"
   ]
  },
  {
   "cell_type": "code",
   "execution_count": 213,
   "metadata": {},
   "outputs": [],
   "source": [
    "import pandas as pd"
   ]
  },
  {
   "cell_type": "markdown",
   "metadata": {},
   "source": [
    "### Dataset variables\n",
    "> **UserId**: Unique Id for the a certain user\n",
    "***\n",
    "> **ServiceId**: Unique Id assigned to a specific service\n",
    "***\n",
    "> **CategoryId**: Unique Category in which service provided falls into.\n",
    "***\n",
    "> **Create Date**: Time Stamp for the service provided\n",
    "***"
   ]
  },
  {
   "cell_type": "code",
   "execution_count": 51,
   "metadata": {},
   "outputs": [
    {
     "data": {
      "text/html": [
       "<div>\n",
       "<style scoped>\n",
       "    .dataframe tbody tr th:only-of-type {\n",
       "        vertical-align: middle;\n",
       "    }\n",
       "\n",
       "    .dataframe tbody tr th {\n",
       "        vertical-align: top;\n",
       "    }\n",
       "\n",
       "    .dataframe thead th {\n",
       "        text-align: right;\n",
       "    }\n",
       "</style>\n",
       "<table border=\"1\" class=\"dataframe\">\n",
       "  <thead>\n",
       "    <tr style=\"text-align: right;\">\n",
       "      <th></th>\n",
       "      <th>UserId</th>\n",
       "      <th>ServiceId</th>\n",
       "      <th>CategoryId</th>\n",
       "      <th>CreateDate</th>\n",
       "    </tr>\n",
       "  </thead>\n",
       "  <tbody>\n",
       "    <tr>\n",
       "      <th>0</th>\n",
       "      <td>25446</td>\n",
       "      <td>4</td>\n",
       "      <td>5</td>\n",
       "      <td>2017-08-06 16:11:00</td>\n",
       "    </tr>\n",
       "    <tr>\n",
       "      <th>1</th>\n",
       "      <td>22948</td>\n",
       "      <td>48</td>\n",
       "      <td>5</td>\n",
       "      <td>2017-08-06 16:12:00</td>\n",
       "    </tr>\n",
       "    <tr>\n",
       "      <th>2</th>\n",
       "      <td>10618</td>\n",
       "      <td>0</td>\n",
       "      <td>8</td>\n",
       "      <td>2017-08-06 16:13:00</td>\n",
       "    </tr>\n",
       "    <tr>\n",
       "      <th>3</th>\n",
       "      <td>7256</td>\n",
       "      <td>9</td>\n",
       "      <td>4</td>\n",
       "      <td>2017-08-06 16:14:00</td>\n",
       "    </tr>\n",
       "    <tr>\n",
       "      <th>4</th>\n",
       "      <td>25446</td>\n",
       "      <td>48</td>\n",
       "      <td>5</td>\n",
       "      <td>2017-08-06 16:16:00</td>\n",
       "    </tr>\n",
       "    <tr>\n",
       "      <th>...</th>\n",
       "      <td>...</td>\n",
       "      <td>...</td>\n",
       "      <td>...</td>\n",
       "      <td>...</td>\n",
       "    </tr>\n",
       "    <tr>\n",
       "      <th>162518</th>\n",
       "      <td>10591</td>\n",
       "      <td>25</td>\n",
       "      <td>0</td>\n",
       "      <td>2018-08-06 14:40:00</td>\n",
       "    </tr>\n",
       "    <tr>\n",
       "      <th>162519</th>\n",
       "      <td>10591</td>\n",
       "      <td>2</td>\n",
       "      <td>0</td>\n",
       "      <td>2018-08-06 14:43:00</td>\n",
       "    </tr>\n",
       "    <tr>\n",
       "      <th>162520</th>\n",
       "      <td>10591</td>\n",
       "      <td>31</td>\n",
       "      <td>6</td>\n",
       "      <td>2018-08-06 14:47:00</td>\n",
       "    </tr>\n",
       "    <tr>\n",
       "      <th>162521</th>\n",
       "      <td>12666</td>\n",
       "      <td>38</td>\n",
       "      <td>4</td>\n",
       "      <td>2018-08-06 16:01:00</td>\n",
       "    </tr>\n",
       "    <tr>\n",
       "      <th>162522</th>\n",
       "      <td>17497</td>\n",
       "      <td>47</td>\n",
       "      <td>7</td>\n",
       "      <td>2018-08-06 16:04:00</td>\n",
       "    </tr>\n",
       "  </tbody>\n",
       "</table>\n",
       "<p>162523 rows × 4 columns</p>\n",
       "</div>"
      ],
      "text/plain": [
       "        UserId  ServiceId  CategoryId           CreateDate\n",
       "0        25446          4           5  2017-08-06 16:11:00\n",
       "1        22948         48           5  2017-08-06 16:12:00\n",
       "2        10618          0           8  2017-08-06 16:13:00\n",
       "3         7256          9           4  2017-08-06 16:14:00\n",
       "4        25446         48           5  2017-08-06 16:16:00\n",
       "...        ...        ...         ...                  ...\n",
       "162518   10591         25           0  2018-08-06 14:40:00\n",
       "162519   10591          2           0  2018-08-06 14:43:00\n",
       "162520   10591         31           6  2018-08-06 14:47:00\n",
       "162521   12666         38           4  2018-08-06 16:01:00\n",
       "162522   17497         47           7  2018-08-06 16:04:00\n",
       "\n",
       "[162523 rows x 4 columns]"
      ]
     },
     "execution_count": 51,
     "metadata": {},
     "output_type": "execute_result"
    }
   ],
   "source": [
    "df=pd.read_csv(r\"C:\\Users\\ONUR\\armut_data.csv\")\n",
    "df"
   ]
  },
  {
   "cell_type": "code",
   "execution_count": 52,
   "metadata": {},
   "outputs": [
    {
     "data": {
      "text/plain": [
       "UserId         int64\n",
       "ServiceId      int64\n",
       "CategoryId     int64\n",
       "CreateDate    object\n",
       "dtype: object"
      ]
     },
     "execution_count": 52,
     "metadata": {},
     "output_type": "execute_result"
    }
   ],
   "source": [
    "df.dtypes"
   ]
  },
  {
   "cell_type": "code",
   "execution_count": 53,
   "metadata": {},
   "outputs": [],
   "source": [
    "df['CreateDate'] = pd.to_datetime(df['CreateDate'])"
   ]
  },
  {
   "cell_type": "markdown",
   "metadata": {},
   "source": [
    "#### Number of unique values for each columns\n",
    "* There are 24826 unique User\n",
    "* There are 12 unique categories"
   ]
  },
  {
   "cell_type": "code",
   "execution_count": 54,
   "metadata": {},
   "outputs": [
    {
     "data": {
      "text/plain": [
       "[('UserId', 24826),\n",
       " ('ServiceId', 50),\n",
       " ('CategoryId', 12),\n",
       " ('CreateDate', 117510)]"
      ]
     },
     "execution_count": 54,
     "metadata": {},
     "output_type": "execute_result"
    }
   ],
   "source": [
    "[ (col,df[col].nunique()) for col in df.columns]"
   ]
  },
  {
   "cell_type": "markdown",
   "metadata": {},
   "source": [
    "#### As can be seen above and below, There are 50 different services dispersed into 12 categories unevenly"
   ]
  },
  {
   "cell_type": "code",
   "execution_count": 55,
   "metadata": {},
   "outputs": [
    {
     "data": {
      "text/plain": [
       "CategoryId\n",
       "0     6\n",
       "1     4\n",
       "2     2\n",
       "3     2\n",
       "4     8\n",
       "5     7\n",
       "6     4\n",
       "7     6\n",
       "8     3\n",
       "9     1\n",
       "10    3\n",
       "11    4\n",
       "Name: ServiceId, dtype: int64"
      ]
     },
     "execution_count": 55,
     "metadata": {},
     "output_type": "execute_result"
    }
   ],
   "source": [
    "df.groupby(\"CategoryId\")[\"ServiceId\"].nunique()"
   ]
  },
  {
   "cell_type": "markdown",
   "metadata": {},
   "source": [
    "***\n",
    "## *Merging CategoryId and ServiceId columns*\n",
    ">Since each combination of ServiceId and CombinationId represents an different task, the two must be merged into one cell to differentiate \n",
    "\n",
    ">To exemplifiy, service 4 of Category 4 and service 4 of Category 5. Eventhough they have the same serviceId they represent different \n",
    "\n",
    ">task since they are assesed within the context of category they fall into. This new columns will be named as **\"Service\"**"
   ]
  },
  {
   "cell_type": "code",
   "execution_count": 56,
   "metadata": {},
   "outputs": [],
   "source": [
    "df[\"Service\"]=df[\"ServiceId\"].astype(str)+\"_\"+df[\"CategoryId\"].astype(str)"
   ]
  },
  {
   "cell_type": "code",
   "execution_count": 214,
   "metadata": {},
   "outputs": [
    {
     "data": {
      "text/html": [
       "<div>\n",
       "<style scoped>\n",
       "    .dataframe tbody tr th:only-of-type {\n",
       "        vertical-align: middle;\n",
       "    }\n",
       "\n",
       "    .dataframe tbody tr th {\n",
       "        vertical-align: top;\n",
       "    }\n",
       "\n",
       "    .dataframe thead th {\n",
       "        text-align: right;\n",
       "    }\n",
       "</style>\n",
       "<table border=\"1\" class=\"dataframe\">\n",
       "  <thead>\n",
       "    <tr style=\"text-align: right;\">\n",
       "      <th></th>\n",
       "      <th>UserId</th>\n",
       "      <th>ServiceId</th>\n",
       "      <th>CategoryId</th>\n",
       "      <th>CreateDate</th>\n",
       "      <th>Service</th>\n",
       "      <th>NewDate</th>\n",
       "      <th>BasketId</th>\n",
       "    </tr>\n",
       "  </thead>\n",
       "  <tbody>\n",
       "    <tr>\n",
       "      <th>0</th>\n",
       "      <td>25446</td>\n",
       "      <td>4</td>\n",
       "      <td>5</td>\n",
       "      <td>2017-08-06 16:11:00</td>\n",
       "      <td>4_5</td>\n",
       "      <td>2017-08</td>\n",
       "      <td>25446_2017-08</td>\n",
       "    </tr>\n",
       "    <tr>\n",
       "      <th>1</th>\n",
       "      <td>22948</td>\n",
       "      <td>48</td>\n",
       "      <td>5</td>\n",
       "      <td>2017-08-06 16:12:00</td>\n",
       "      <td>48_5</td>\n",
       "      <td>2017-08</td>\n",
       "      <td>22948_2017-08</td>\n",
       "    </tr>\n",
       "  </tbody>\n",
       "</table>\n",
       "</div>"
      ],
      "text/plain": [
       "   UserId  ServiceId  CategoryId          CreateDate Service  NewDate  \\\n",
       "0   25446          4           5 2017-08-06 16:11:00     4_5  2017-08   \n",
       "1   22948         48           5 2017-08-06 16:12:00    48_5  2017-08   \n",
       "\n",
       "        BasketId  \n",
       "0  25446_2017-08  \n",
       "1  22948_2017-08  "
      ]
     },
     "execution_count": 214,
     "metadata": {},
     "output_type": "execute_result"
    }
   ],
   "source": [
    "df.head(2)"
   ]
  },
  {
   "cell_type": "markdown",
   "metadata": {},
   "source": [
    "***\n",
    "## *Creating Baskets (Invoices) for the services provided based on the month they are purchased*"
   ]
  },
  {
   "cell_type": "markdown",
   "metadata": {},
   "source": [
    "#### 1- Defining a new column with only month and year in it from CreateDate column"
   ]
  },
  {
   "cell_type": "code",
   "execution_count": 58,
   "metadata": {},
   "outputs": [
    {
     "data": {
      "text/html": [
       "<div>\n",
       "<style scoped>\n",
       "    .dataframe tbody tr th:only-of-type {\n",
       "        vertical-align: middle;\n",
       "    }\n",
       "\n",
       "    .dataframe tbody tr th {\n",
       "        vertical-align: top;\n",
       "    }\n",
       "\n",
       "    .dataframe thead th {\n",
       "        text-align: right;\n",
       "    }\n",
       "</style>\n",
       "<table border=\"1\" class=\"dataframe\">\n",
       "  <thead>\n",
       "    <tr style=\"text-align: right;\">\n",
       "      <th></th>\n",
       "      <th>UserId</th>\n",
       "      <th>ServiceId</th>\n",
       "      <th>CategoryId</th>\n",
       "      <th>CreateDate</th>\n",
       "      <th>Service</th>\n",
       "      <th>NewDate</th>\n",
       "    </tr>\n",
       "  </thead>\n",
       "  <tbody>\n",
       "    <tr>\n",
       "      <th>0</th>\n",
       "      <td>25446</td>\n",
       "      <td>4</td>\n",
       "      <td>5</td>\n",
       "      <td>2017-08-06 16:11:00</td>\n",
       "      <td>4_5</td>\n",
       "      <td>2017-08</td>\n",
       "    </tr>\n",
       "    <tr>\n",
       "      <th>1</th>\n",
       "      <td>22948</td>\n",
       "      <td>48</td>\n",
       "      <td>5</td>\n",
       "      <td>2017-08-06 16:12:00</td>\n",
       "      <td>48_5</td>\n",
       "      <td>2017-08</td>\n",
       "    </tr>\n",
       "    <tr>\n",
       "      <th>2</th>\n",
       "      <td>10618</td>\n",
       "      <td>0</td>\n",
       "      <td>8</td>\n",
       "      <td>2017-08-06 16:13:00</td>\n",
       "      <td>0_8</td>\n",
       "      <td>2017-08</td>\n",
       "    </tr>\n",
       "    <tr>\n",
       "      <th>3</th>\n",
       "      <td>7256</td>\n",
       "      <td>9</td>\n",
       "      <td>4</td>\n",
       "      <td>2017-08-06 16:14:00</td>\n",
       "      <td>9_4</td>\n",
       "      <td>2017-08</td>\n",
       "    </tr>\n",
       "    <tr>\n",
       "      <th>4</th>\n",
       "      <td>25446</td>\n",
       "      <td>48</td>\n",
       "      <td>5</td>\n",
       "      <td>2017-08-06 16:16:00</td>\n",
       "      <td>48_5</td>\n",
       "      <td>2017-08</td>\n",
       "    </tr>\n",
       "  </tbody>\n",
       "</table>\n",
       "</div>"
      ],
      "text/plain": [
       "   UserId  ServiceId  CategoryId          CreateDate Service  NewDate\n",
       "0   25446          4           5 2017-08-06 16:11:00     4_5  2017-08\n",
       "1   22948         48           5 2017-08-06 16:12:00    48_5  2017-08\n",
       "2   10618          0           8 2017-08-06 16:13:00     0_8  2017-08\n",
       "3    7256          9           4 2017-08-06 16:14:00     9_4  2017-08\n",
       "4   25446         48           5 2017-08-06 16:16:00    48_5  2017-08"
      ]
     },
     "execution_count": 58,
     "metadata": {},
     "output_type": "execute_result"
    }
   ],
   "source": [
    "df[\"NewDate\"]=df[\"CreateDate\"].map(lambda x: '{year}-{month:02}'.format(year=x.year,month=x.month))\n",
    "df.head()"
   ]
  },
  {
   "cell_type": "markdown",
   "metadata": {},
   "source": [
    "### 2-Creating an imaginary \"BasketId\" for the Invoice-Product Matrix for ARL"
   ]
  },
  {
   "cell_type": "code",
   "execution_count": 215,
   "metadata": {},
   "outputs": [
    {
     "data": {
      "text/html": [
       "<div>\n",
       "<style scoped>\n",
       "    .dataframe tbody tr th:only-of-type {\n",
       "        vertical-align: middle;\n",
       "    }\n",
       "\n",
       "    .dataframe tbody tr th {\n",
       "        vertical-align: top;\n",
       "    }\n",
       "\n",
       "    .dataframe thead th {\n",
       "        text-align: right;\n",
       "    }\n",
       "</style>\n",
       "<table border=\"1\" class=\"dataframe\">\n",
       "  <thead>\n",
       "    <tr style=\"text-align: right;\">\n",
       "      <th></th>\n",
       "      <th>UserId</th>\n",
       "      <th>ServiceId</th>\n",
       "      <th>CategoryId</th>\n",
       "      <th>CreateDate</th>\n",
       "      <th>Service</th>\n",
       "      <th>NewDate</th>\n",
       "      <th>BasketId</th>\n",
       "    </tr>\n",
       "  </thead>\n",
       "  <tbody>\n",
       "    <tr>\n",
       "      <th>0</th>\n",
       "      <td>25446</td>\n",
       "      <td>4</td>\n",
       "      <td>5</td>\n",
       "      <td>2017-08-06 16:11:00</td>\n",
       "      <td>4_5</td>\n",
       "      <td>2017-08</td>\n",
       "      <td>25446_2017-08</td>\n",
       "    </tr>\n",
       "    <tr>\n",
       "      <th>1</th>\n",
       "      <td>22948</td>\n",
       "      <td>48</td>\n",
       "      <td>5</td>\n",
       "      <td>2017-08-06 16:12:00</td>\n",
       "      <td>48_5</td>\n",
       "      <td>2017-08</td>\n",
       "      <td>22948_2017-08</td>\n",
       "    </tr>\n",
       "  </tbody>\n",
       "</table>\n",
       "</div>"
      ],
      "text/plain": [
       "   UserId  ServiceId  CategoryId          CreateDate Service  NewDate  \\\n",
       "0   25446          4           5 2017-08-06 16:11:00     4_5  2017-08   \n",
       "1   22948         48           5 2017-08-06 16:12:00    48_5  2017-08   \n",
       "\n",
       "        BasketId  \n",
       "0  25446_2017-08  \n",
       "1  22948_2017-08  "
      ]
     },
     "execution_count": 215,
     "metadata": {},
     "output_type": "execute_result"
    }
   ],
   "source": [
    "df[\"BasketId\"]=df[\"UserId\"].astype(str)+\"_\"+df[\"NewDate\"]\n",
    "df.head(2)"
   ]
  },
  {
   "cell_type": "markdown",
   "metadata": {},
   "source": [
    "***"
   ]
  },
  {
   "cell_type": "markdown",
   "metadata": {},
   "source": [
    "### Invoice-Product Matrix Preparation for Assocation Rule Learning Algorithms\n",
    "> A certain type of matrix should be prepared as an input for ARL Algorithms"
   ]
  },
  {
   "cell_type": "code",
   "execution_count": 96,
   "metadata": {},
   "outputs": [],
   "source": [
    "Invoice_Product_Matrix=df.groupby([\"BasketId\",\"Service\"])[\"UserId\"].count().unstack().fillna(0)\\\n",
    "                                                                    .applymap(lambda x:True if x>0 else False)\n",
    "# Every row represents a unique user in a given month and year.\n",
    "# Columns represent the services and values indicate whether the service in a given column\n",
    "# has been purchased or not.\n",
    "\n",
    "# WE ARE INTERESTED IN THE FREQUENCY OF A CERTAIN SERVICE FOR A CERTAIN USER BUT ONLY THE OCCURENCE SO\n",
    "# IF A SERVICE IS BOUGHT 3 OR 4 TIMES IN A MONTH BY A USER WE JUST TRANSFORM THAT TO 1 TO INDICATE ONLY THE OCCURENCE"
   ]
  },
  {
   "cell_type": "code",
   "execution_count": 97,
   "metadata": {},
   "outputs": [],
   "source": [
    "# Bool type values are used for better computational performance.\n",
    "# True:1 (There has been at least one purchase of that certain service by a that certain customer)\n",
    "# False:1 (There hasn't been any purchase of that certain service by a that certain customer)"
   ]
  },
  {
   "cell_type": "code",
   "execution_count": 98,
   "metadata": {},
   "outputs": [
    {
     "data": {
      "text/html": [
       "<div>\n",
       "<style scoped>\n",
       "    .dataframe tbody tr th:only-of-type {\n",
       "        vertical-align: middle;\n",
       "    }\n",
       "\n",
       "    .dataframe tbody tr th {\n",
       "        vertical-align: top;\n",
       "    }\n",
       "\n",
       "    .dataframe thead th {\n",
       "        text-align: right;\n",
       "    }\n",
       "</style>\n",
       "<table border=\"1\" class=\"dataframe\">\n",
       "  <thead>\n",
       "    <tr style=\"text-align: right;\">\n",
       "      <th>Service</th>\n",
       "      <th>0_8</th>\n",
       "      <th>10_9</th>\n",
       "      <th>11_11</th>\n",
       "      <th>12_7</th>\n",
       "      <th>13_11</th>\n",
       "      <th>14_7</th>\n",
       "      <th>15_1</th>\n",
       "      <th>16_8</th>\n",
       "      <th>17_5</th>\n",
       "      <th>18_4</th>\n",
       "      <th>...</th>\n",
       "      <th>46_4</th>\n",
       "      <th>47_7</th>\n",
       "      <th>48_5</th>\n",
       "      <th>49_1</th>\n",
       "      <th>4_5</th>\n",
       "      <th>5_11</th>\n",
       "      <th>6_7</th>\n",
       "      <th>7_3</th>\n",
       "      <th>8_5</th>\n",
       "      <th>9_4</th>\n",
       "    </tr>\n",
       "    <tr>\n",
       "      <th>BasketId</th>\n",
       "      <th></th>\n",
       "      <th></th>\n",
       "      <th></th>\n",
       "      <th></th>\n",
       "      <th></th>\n",
       "      <th></th>\n",
       "      <th></th>\n",
       "      <th></th>\n",
       "      <th></th>\n",
       "      <th></th>\n",
       "      <th></th>\n",
       "      <th></th>\n",
       "      <th></th>\n",
       "      <th></th>\n",
       "      <th></th>\n",
       "      <th></th>\n",
       "      <th></th>\n",
       "      <th></th>\n",
       "      <th></th>\n",
       "      <th></th>\n",
       "      <th></th>\n",
       "    </tr>\n",
       "  </thead>\n",
       "  <tbody>\n",
       "    <tr>\n",
       "      <th>0_2017-08</th>\n",
       "      <td>False</td>\n",
       "      <td>False</td>\n",
       "      <td>False</td>\n",
       "      <td>False</td>\n",
       "      <td>False</td>\n",
       "      <td>False</td>\n",
       "      <td>False</td>\n",
       "      <td>False</td>\n",
       "      <td>False</td>\n",
       "      <td>False</td>\n",
       "      <td>...</td>\n",
       "      <td>True</td>\n",
       "      <td>False</td>\n",
       "      <td>True</td>\n",
       "      <td>False</td>\n",
       "      <td>False</td>\n",
       "      <td>False</td>\n",
       "      <td>False</td>\n",
       "      <td>False</td>\n",
       "      <td>False</td>\n",
       "      <td>False</td>\n",
       "    </tr>\n",
       "    <tr>\n",
       "      <th>0_2017-09</th>\n",
       "      <td>False</td>\n",
       "      <td>False</td>\n",
       "      <td>False</td>\n",
       "      <td>False</td>\n",
       "      <td>False</td>\n",
       "      <td>False</td>\n",
       "      <td>False</td>\n",
       "      <td>False</td>\n",
       "      <td>False</td>\n",
       "      <td>False</td>\n",
       "      <td>...</td>\n",
       "      <td>False</td>\n",
       "      <td>False</td>\n",
       "      <td>True</td>\n",
       "      <td>False</td>\n",
       "      <td>True</td>\n",
       "      <td>False</td>\n",
       "      <td>False</td>\n",
       "      <td>False</td>\n",
       "      <td>False</td>\n",
       "      <td>False</td>\n",
       "    </tr>\n",
       "  </tbody>\n",
       "</table>\n",
       "<p>2 rows × 50 columns</p>\n",
       "</div>"
      ],
      "text/plain": [
       "Service      0_8   10_9  11_11   12_7  13_11   14_7   15_1   16_8   17_5  \\\n",
       "BasketId                                                                   \n",
       "0_2017-08  False  False  False  False  False  False  False  False  False   \n",
       "0_2017-09  False  False  False  False  False  False  False  False  False   \n",
       "\n",
       "Service     18_4  ...   46_4   47_7  48_5   49_1    4_5   5_11    6_7    7_3  \\\n",
       "BasketId          ...                                                          \n",
       "0_2017-08  False  ...   True  False  True  False  False  False  False  False   \n",
       "0_2017-09  False  ...  False  False  True  False   True  False  False  False   \n",
       "\n",
       "Service      8_5    9_4  \n",
       "BasketId                 \n",
       "0_2017-08  False  False  \n",
       "0_2017-09  False  False  \n",
       "\n",
       "[2 rows x 50 columns]"
      ]
     },
     "execution_count": 98,
     "metadata": {},
     "output_type": "execute_result"
    }
   ],
   "source": [
    "Invoice_Product_Matrix.head(2)"
   ]
  },
  {
   "cell_type": "code",
   "execution_count": 99,
   "metadata": {},
   "outputs": [],
   "source": [
    "# importing required algorithms for Association Rule Learning\n",
    "from mlxtend.frequent_patterns import apriori\n",
    "from mlxtend.frequent_patterns import association_rules"
   ]
  },
  {
   "cell_type": "code",
   "execution_count": 122,
   "metadata": {},
   "outputs": [],
   "source": [
    "frequent_services=apriori(df=Invoice_Product_Matrix,\n",
    "                          min_support=0.01,\n",
    "                          use_colnames=True)"
   ]
  },
  {
   "cell_type": "code",
   "execution_count": 123,
   "metadata": {},
   "outputs": [
    {
     "data": {
      "text/plain": [
       "56"
      ]
     },
     "execution_count": 123,
     "metadata": {},
     "output_type": "execute_result"
    }
   ],
   "source": [
    "# There are 56 possible servicesets\n",
    "frequent_services.shape[0]"
   ]
  },
  {
   "cell_type": "code",
   "execution_count": 216,
   "metadata": {},
   "outputs": [
    {
     "data": {
      "text/html": [
       "<div>\n",
       "<style scoped>\n",
       "    .dataframe tbody tr th:only-of-type {\n",
       "        vertical-align: middle;\n",
       "    }\n",
       "\n",
       "    .dataframe tbody tr th {\n",
       "        vertical-align: top;\n",
       "    }\n",
       "\n",
       "    .dataframe thead th {\n",
       "        text-align: right;\n",
       "    }\n",
       "</style>\n",
       "<table border=\"1\" class=\"dataframe\">\n",
       "  <thead>\n",
       "    <tr style=\"text-align: right;\">\n",
       "      <th></th>\n",
       "      <th>support</th>\n",
       "      <th>itemsets</th>\n",
       "    </tr>\n",
       "  </thead>\n",
       "  <tbody>\n",
       "    <tr>\n",
       "      <th>0</th>\n",
       "      <td>0.019728</td>\n",
       "      <td>(0_8)</td>\n",
       "    </tr>\n",
       "    <tr>\n",
       "      <th>1</th>\n",
       "      <td>0.026523</td>\n",
       "      <td>(11_11)</td>\n",
       "    </tr>\n",
       "  </tbody>\n",
       "</table>\n",
       "</div>"
      ],
      "text/plain": [
       "    support itemsets\n",
       "0  0.019728    (0_8)\n",
       "1  0.026523  (11_11)"
      ]
     },
     "execution_count": 216,
     "metadata": {},
     "output_type": "execute_result"
    }
   ],
   "source": [
    "#Support= Occurence probability of first and second service sets\n",
    "#(if there is only one argument it's basically independent probability)\n",
    "\n",
    "# Let's explain. Support value of 0.019 for itemset (0_8) means that out of every 100 transaction 2 of them are happen\n",
    "# to be service 0_8\n",
    "frequent_services.head(2)"
   ]
  },
  {
   "cell_type": "code",
   "execution_count": 125,
   "metadata": {},
   "outputs": [
    {
     "data": {
      "text/html": [
       "<div>\n",
       "<style scoped>\n",
       "    .dataframe tbody tr th:only-of-type {\n",
       "        vertical-align: middle;\n",
       "    }\n",
       "\n",
       "    .dataframe tbody tr th {\n",
       "        vertical-align: top;\n",
       "    }\n",
       "\n",
       "    .dataframe thead th {\n",
       "        text-align: right;\n",
       "    }\n",
       "</style>\n",
       "<table border=\"1\" class=\"dataframe\">\n",
       "  <thead>\n",
       "    <tr style=\"text-align: right;\">\n",
       "      <th></th>\n",
       "      <th>support</th>\n",
       "      <th>itemsets</th>\n",
       "    </tr>\n",
       "  </thead>\n",
       "  <tbody>\n",
       "    <tr>\n",
       "      <th>8</th>\n",
       "      <td>0.238121</td>\n",
       "      <td>(18_4)</td>\n",
       "    </tr>\n",
       "    <tr>\n",
       "      <th>19</th>\n",
       "      <td>0.130286</td>\n",
       "      <td>(2_0)</td>\n",
       "    </tr>\n",
       "    <tr>\n",
       "      <th>5</th>\n",
       "      <td>0.120963</td>\n",
       "      <td>(15_1)</td>\n",
       "    </tr>\n",
       "    <tr>\n",
       "      <th>39</th>\n",
       "      <td>0.067762</td>\n",
       "      <td>(49_1)</td>\n",
       "    </tr>\n",
       "    <tr>\n",
       "      <th>28</th>\n",
       "      <td>0.066568</td>\n",
       "      <td>(38_4)</td>\n",
       "    </tr>\n",
       "    <tr>\n",
       "      <th>3</th>\n",
       "      <td>0.056627</td>\n",
       "      <td>(13_11)</td>\n",
       "    </tr>\n",
       "    <tr>\n",
       "      <th>12</th>\n",
       "      <td>0.047515</td>\n",
       "      <td>(22_0)</td>\n",
       "    </tr>\n",
       "    <tr>\n",
       "      <th>9</th>\n",
       "      <td>0.045563</td>\n",
       "      <td>(19_6)</td>\n",
       "    </tr>\n",
       "    <tr>\n",
       "      <th>15</th>\n",
       "      <td>0.042895</td>\n",
       "      <td>(25_0)</td>\n",
       "    </tr>\n",
       "    <tr>\n",
       "      <th>7</th>\n",
       "      <td>0.041533</td>\n",
       "      <td>(17_5)</td>\n",
       "    </tr>\n",
       "    <tr>\n",
       "      <th>45</th>\n",
       "      <td>0.041393</td>\n",
       "      <td>(9_4)</td>\n",
       "    </tr>\n",
       "    <tr>\n",
       "      <th>42</th>\n",
       "      <td>0.040284</td>\n",
       "      <td>(6_7)</td>\n",
       "    </tr>\n",
       "    <tr>\n",
       "      <th>38</th>\n",
       "      <td>0.037518</td>\n",
       "      <td>(48_5)</td>\n",
       "    </tr>\n",
       "    <tr>\n",
       "      <th>41</th>\n",
       "      <td>0.036408</td>\n",
       "      <td>(5_11)</td>\n",
       "    </tr>\n",
       "    <tr>\n",
       "      <th>40</th>\n",
       "      <td>0.035875</td>\n",
       "      <td>(4_5)</td>\n",
       "    </tr>\n",
       "    <tr>\n",
       "      <th>47</th>\n",
       "      <td>0.033951</td>\n",
       "      <td>(15_1, 2_0)</td>\n",
       "    </tr>\n",
       "    <tr>\n",
       "      <th>2</th>\n",
       "      <td>0.029374</td>\n",
       "      <td>(12_7)</td>\n",
       "    </tr>\n",
       "    <tr>\n",
       "      <th>37</th>\n",
       "      <td>0.028756</td>\n",
       "      <td>(47_7)</td>\n",
       "    </tr>\n",
       "    <tr>\n",
       "      <th>13</th>\n",
       "      <td>0.027577</td>\n",
       "      <td>(23_10)</td>\n",
       "    </tr>\n",
       "    <tr>\n",
       "      <th>16</th>\n",
       "      <td>0.027492</td>\n",
       "      <td>(26_7)</td>\n",
       "    </tr>\n",
       "  </tbody>\n",
       "</table>\n",
       "</div>"
      ],
      "text/plain": [
       "     support     itemsets\n",
       "8   0.238121       (18_4)\n",
       "19  0.130286        (2_0)\n",
       "5   0.120963       (15_1)\n",
       "39  0.067762       (49_1)\n",
       "28  0.066568       (38_4)\n",
       "3   0.056627      (13_11)\n",
       "12  0.047515       (22_0)\n",
       "9   0.045563       (19_6)\n",
       "15  0.042895       (25_0)\n",
       "7   0.041533       (17_5)\n",
       "45  0.041393        (9_4)\n",
       "42  0.040284        (6_7)\n",
       "38  0.037518       (48_5)\n",
       "41  0.036408       (5_11)\n",
       "40  0.035875        (4_5)\n",
       "47  0.033951  (15_1, 2_0)\n",
       "2   0.029374       (12_7)\n",
       "37  0.028756       (47_7)\n",
       "13  0.027577      (23_10)\n",
       "16  0.027492       (26_7)"
      ]
     },
     "execution_count": 125,
     "metadata": {},
     "output_type": "execute_result"
    }
   ],
   "source": [
    "# Let's see itemset with the highest support values\n",
    "frequent_services.sort_values(by=\"support\",ascending=False).head(20)\n",
    "# Let's check index 47. Out of every 100 transaction 3 of them contains services 15_1 and 2_0 together."
   ]
  },
  {
   "cell_type": "code",
   "execution_count": 219,
   "metadata": {},
   "outputs": [
    {
     "data": {
      "text/html": [
       "<div>\n",
       "<style scoped>\n",
       "    .dataframe tbody tr th:only-of-type {\n",
       "        vertical-align: middle;\n",
       "    }\n",
       "\n",
       "    .dataframe tbody tr th {\n",
       "        vertical-align: top;\n",
       "    }\n",
       "\n",
       "    .dataframe thead th {\n",
       "        text-align: right;\n",
       "    }\n",
       "</style>\n",
       "<table border=\"1\" class=\"dataframe\">\n",
       "  <thead>\n",
       "    <tr style=\"text-align: right;\">\n",
       "      <th></th>\n",
       "      <th>antecedents</th>\n",
       "      <th>consequents</th>\n",
       "      <th>antecedent support</th>\n",
       "      <th>consequent support</th>\n",
       "      <th>support</th>\n",
       "      <th>confidence</th>\n",
       "      <th>lift</th>\n",
       "      <th>leverage</th>\n",
       "      <th>conviction</th>\n",
       "    </tr>\n",
       "  </thead>\n",
       "  <tbody>\n",
       "    <tr>\n",
       "      <th>0</th>\n",
       "      <td>(13_11)</td>\n",
       "      <td>(2_0)</td>\n",
       "      <td>0.056627</td>\n",
       "      <td>0.130286</td>\n",
       "      <td>0.012819</td>\n",
       "      <td>0.226382</td>\n",
       "      <td>1.737574</td>\n",
       "      <td>0.005442</td>\n",
       "      <td>1.124216</td>\n",
       "    </tr>\n",
       "    <tr>\n",
       "      <th>1</th>\n",
       "      <td>(2_0)</td>\n",
       "      <td>(13_11)</td>\n",
       "      <td>0.130286</td>\n",
       "      <td>0.056627</td>\n",
       "      <td>0.012819</td>\n",
       "      <td>0.098394</td>\n",
       "      <td>1.737574</td>\n",
       "      <td>0.005442</td>\n",
       "      <td>1.046325</td>\n",
       "    </tr>\n",
       "    <tr>\n",
       "      <th>2</th>\n",
       "      <td>(15_1)</td>\n",
       "      <td>(2_0)</td>\n",
       "      <td>0.120963</td>\n",
       "      <td>0.130286</td>\n",
       "      <td>0.033951</td>\n",
       "      <td>0.280673</td>\n",
       "      <td>2.154278</td>\n",
       "      <td>0.018191</td>\n",
       "      <td>1.209066</td>\n",
       "    </tr>\n",
       "    <tr>\n",
       "      <th>3</th>\n",
       "      <td>(2_0)</td>\n",
       "      <td>(15_1)</td>\n",
       "      <td>0.130286</td>\n",
       "      <td>0.120963</td>\n",
       "      <td>0.033951</td>\n",
       "      <td>0.260588</td>\n",
       "      <td>2.154278</td>\n",
       "      <td>0.018191</td>\n",
       "      <td>1.188833</td>\n",
       "    </tr>\n",
       "    <tr>\n",
       "      <th>4</th>\n",
       "      <td>(15_1)</td>\n",
       "      <td>(33_4)</td>\n",
       "      <td>0.120963</td>\n",
       "      <td>0.027310</td>\n",
       "      <td>0.011233</td>\n",
       "      <td>0.092861</td>\n",
       "      <td>3.400299</td>\n",
       "      <td>0.007929</td>\n",
       "      <td>1.072262</td>\n",
       "    </tr>\n",
       "  </tbody>\n",
       "</table>\n",
       "</div>"
      ],
      "text/plain": [
       "  antecedents consequents  antecedent support  consequent support   support  \\\n",
       "0     (13_11)       (2_0)            0.056627            0.130286  0.012819   \n",
       "1       (2_0)     (13_11)            0.130286            0.056627  0.012819   \n",
       "2      (15_1)       (2_0)            0.120963            0.130286  0.033951   \n",
       "3       (2_0)      (15_1)            0.130286            0.120963  0.033951   \n",
       "4      (15_1)      (33_4)            0.120963            0.027310  0.011233   \n",
       "\n",
       "   confidence      lift  leverage  conviction  \n",
       "0    0.226382  1.737574  0.005442    1.124216  \n",
       "1    0.098394  1.737574  0.005442    1.046325  \n",
       "2    0.280673  2.154278  0.018191    1.209066  \n",
       "3    0.260588  2.154278  0.018191    1.188833  \n",
       "4    0.092861  3.400299  0.007929    1.072262  "
      ]
     },
     "execution_count": 219,
     "metadata": {},
     "output_type": "execute_result"
    }
   ],
   "source": [
    "#Antecedents= First service set\n",
    "#Consequents= Second service set\n",
    "#Antecedent support= The probability of occurence of first service set independently\n",
    "#Consequent support= The probability of occurence of second service set independently\n",
    "#Support= Occurence probability of first and second service sets(if there is only one argument it's independent probability)\n",
    "#Confidence= The occurence probability of second service set when first service set is already bought\n",
    "#Lift= The probability impact of occurence of first service set to the occurence of second service set\n",
    "# The value of 17 for lift means that if you buy the first service the second service is 17 times more likely to be bought\n",
    "rules=association_rules(frequent_services,\n",
    "                       metric=\"support\",\n",
    "                       min_threshold=0.01)\n",
    "rules.head()"
   ]
  },
  {
   "cell_type": "code",
   "execution_count": 152,
   "metadata": {},
   "outputs": [
    {
     "data": {
      "text/html": [
       "<div>\n",
       "<style scoped>\n",
       "    .dataframe tbody tr th:only-of-type {\n",
       "        vertical-align: middle;\n",
       "    }\n",
       "\n",
       "    .dataframe tbody tr th {\n",
       "        vertical-align: top;\n",
       "    }\n",
       "\n",
       "    .dataframe thead th {\n",
       "        text-align: right;\n",
       "    }\n",
       "</style>\n",
       "<table border=\"1\" class=\"dataframe\">\n",
       "  <thead>\n",
       "    <tr style=\"text-align: right;\">\n",
       "      <th></th>\n",
       "      <th>antecedents</th>\n",
       "      <th>consequents</th>\n",
       "      <th>antecedent support</th>\n",
       "      <th>consequent support</th>\n",
       "      <th>support</th>\n",
       "      <th>confidence</th>\n",
       "      <th>lift</th>\n",
       "      <th>leverage</th>\n",
       "      <th>conviction</th>\n",
       "    </tr>\n",
       "  </thead>\n",
       "  <tbody>\n",
       "    <tr>\n",
       "      <th>10</th>\n",
       "      <td>(25_0)</td>\n",
       "      <td>(22_0)</td>\n",
       "      <td>0.042895</td>\n",
       "      <td>0.047515</td>\n",
       "      <td>0.011120</td>\n",
       "      <td>0.259247</td>\n",
       "      <td>5.456141</td>\n",
       "      <td>0.009082</td>\n",
       "      <td>1.285834</td>\n",
       "    </tr>\n",
       "    <tr>\n",
       "      <th>11</th>\n",
       "      <td>(22_0)</td>\n",
       "      <td>(25_0)</td>\n",
       "      <td>0.047515</td>\n",
       "      <td>0.042895</td>\n",
       "      <td>0.011120</td>\n",
       "      <td>0.234043</td>\n",
       "      <td>5.456141</td>\n",
       "      <td>0.009082</td>\n",
       "      <td>1.249553</td>\n",
       "    </tr>\n",
       "    <tr>\n",
       "      <th>19</th>\n",
       "      <td>(38_4)</td>\n",
       "      <td>(9_4)</td>\n",
       "      <td>0.066568</td>\n",
       "      <td>0.041393</td>\n",
       "      <td>0.010067</td>\n",
       "      <td>0.151234</td>\n",
       "      <td>3.653623</td>\n",
       "      <td>0.007312</td>\n",
       "      <td>1.129413</td>\n",
       "    </tr>\n",
       "  </tbody>\n",
       "</table>\n",
       "</div>"
      ],
      "text/plain": [
       "   antecedents consequents  antecedent support  consequent support   support  \\\n",
       "10      (25_0)      (22_0)            0.042895            0.047515  0.011120   \n",
       "11      (22_0)      (25_0)            0.047515            0.042895  0.011120   \n",
       "19      (38_4)       (9_4)            0.066568            0.041393  0.010067   \n",
       "\n",
       "    confidence      lift  leverage  conviction  \n",
       "10    0.259247  5.456141  0.009082    1.285834  \n",
       "11    0.234043  5.456141  0.009082    1.249553  \n",
       "19    0.151234  3.653623  0.007312    1.129413  "
      ]
     },
     "execution_count": 152,
     "metadata": {},
     "output_type": "execute_result"
    }
   ],
   "source": [
    "# Let's sort the values in order to see the strongest relationships\n",
    "# Personally I have chosen lift factor to sort values\n",
    "#Lift= The probability impact of occurence of first service set to the occurence of second service set\n",
    "#The value of 17 for lift means that if you buy the first service the second service is 17 times more likely to be bought\n",
    "sorted_rules=rules.sort_values(by=\"lift\",ascending=False)\n",
    "sorted_rules.head(3)"
   ]
  },
  {
   "cell_type": "markdown",
   "metadata": {},
   "source": [
    "## Creating a function to make a recommendation for a specific service and using that function"
   ]
  },
  {
   "cell_type": "code",
   "execution_count": 201,
   "metadata": {},
   "outputs": [],
   "source": [
    "# creating a list to store our recommendations\n",
    "def arl_recommender(rules_df,service_id,rec_count=1,statistics=False):\n",
    "    sorted_rules=rules_df.sort_values(\"lift\",ascending=False)\n",
    "    stats=[]\n",
    "    recommendation_list=[]\n",
    "    for i,service in enumerate(sorted_rules[\"antecedents\"]):\n",
    "        for j in list(service):\n",
    "            if j==service_id:\n",
    "                stats.append(sorted_rules.iloc[i])\n",
    "                recommendation_list.append(list(sorted_rules.iloc[i][\"consequents\"])[0])\n",
    "    if statistics:\n",
    "        return recommendation_list[0:rec_count],stats[0:rec_count]\n",
    "    else:\n",
    "        return recommendation_list[0:rec_count]"
   ]
  },
  {
   "cell_type": "markdown",
   "metadata": {},
   "source": [
    "### We want to recommend three services to someone who has bought the service \"2_0\"\n",
    "#### *We can recommend services **\"22_0\"**, **\"25_0\"**, **\"15_1\"** "
   ]
  },
  {
   "cell_type": "code",
   "execution_count": 211,
   "metadata": {},
   "outputs": [
    {
     "data": {
      "text/plain": [
       "['22_0', '25_0', '15_1']"
      ]
     },
     "execution_count": 211,
     "metadata": {},
     "output_type": "execute_result"
    }
   ],
   "source": [
    "arl_recommender(rules,\"2_0\",3,statistics=False)"
   ]
  },
  {
   "cell_type": "code",
   "execution_count": 212,
   "metadata": {},
   "outputs": [
    {
     "data": {
      "text/plain": [
       "(['22_0', '25_0', '15_1'],\n",
       " [antecedents               (2_0)\n",
       "  consequents              (22_0)\n",
       "  antecedent support     0.130286\n",
       "  consequent support    0.0475147\n",
       "  support               0.0165684\n",
       "  confidence             0.127169\n",
       "  lift                    2.67641\n",
       "  leverage              0.0103779\n",
       "  conviction              1.09126\n",
       "  Name: 13, dtype: object,\n",
       "  antecedents                (2_0)\n",
       "  consequents               (25_0)\n",
       "  antecedent support      0.130286\n",
       "  consequent support     0.0428953\n",
       "  support                0.0134372\n",
       "  confidence              0.103136\n",
       "  lift                     2.40437\n",
       "  leverage              0.00784857\n",
       "  conviction               1.06717\n",
       "  Name: 15, dtype: object,\n",
       "  antecedents               (2_0)\n",
       "  consequents              (15_1)\n",
       "  antecedent support     0.130286\n",
       "  consequent support     0.120963\n",
       "  support               0.0339511\n",
       "  confidence             0.260588\n",
       "  lift                    2.15428\n",
       "  leverage              0.0181913\n",
       "  conviction              1.18883\n",
       "  Name: 3, dtype: object])"
      ]
     },
     "execution_count": 212,
     "metadata": {},
     "output_type": "execute_result"
    }
   ],
   "source": [
    "arl_recommender(rules,\"2_0\",3,statistics=True)\n",
    "# We would recommend these three services mentioned above because everytime the service 2_0 is bought\n",
    "# the independent occurence probability of three recommended services at least doubles."
   ]
  },
  {
   "cell_type": "code",
   "execution_count": null,
   "metadata": {},
   "outputs": [],
   "source": []
  }
 ],
 "metadata": {
  "kernelspec": {
   "display_name": "Python 3",
   "language": "python",
   "name": "python3"
  },
  "language_info": {
   "codemirror_mode": {
    "name": "ipython",
    "version": 3
   },
   "file_extension": ".py",
   "mimetype": "text/x-python",
   "name": "python",
   "nbconvert_exporter": "python",
   "pygments_lexer": "ipython3",
   "version": "3.8.3"
  }
 },
 "nbformat": 4,
 "nbformat_minor": 4
}
